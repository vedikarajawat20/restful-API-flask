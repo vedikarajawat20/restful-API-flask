{
  "nbformat": 4,
  "nbformat_minor": 0,
  "metadata": {
    "colab": {
      "provenance": []
    },
    "kernelspec": {
      "name": "python3",
      "display_name": "Python 3"
    },
    "language_info": {
      "name": "python"
    }
  },
  "cells": [
    {
      "cell_type": "markdown",
      "source": [
        "1. What is a RESTful API?"
      ],
      "metadata": {
        "id": "AMxc9fPSt3um"
      }
    },
    {
      "cell_type": "markdown",
      "source": [
        "A RESTful API (Representational State Transfer API) is an architectural style for designing networked applications. It uses a stateless, client-server communication model over HTTP. RESTful APIs are commonly used to enable communication between client applications (such as web or mobile apps) and backend servers."
      ],
      "metadata": {
        "id": "u1ElU0ZPuJjP"
      }
    },
    {
      "cell_type": "markdown",
      "source": [
        "2. Explain the concept of API specification."
      ],
      "metadata": {
        "id": "3lT9B9rvuKN7"
      }
    },
    {
      "cell_type": "markdown",
      "source": [
        "An API specification is a detailed description of how an API (Application Programming Interface) behaves and how it should be used by developers. It defines the rules, parameters, inputs, outputs, and other important information related to how an API interacts with clients or other services.\n",
        "\n",
        "API specifications act as a contract between the API provider (the backend service or server) and the API consumer (the client, typically a developer). The specification outlines how requests and responses should be structured, what endpoints are available, what data is expected, and how errors are handled.\n",
        "\n"
      ],
      "metadata": {
        "id": "gEcAsDM1uZg4"
      }
    },
    {
      "cell_type": "markdown",
      "source": [
        "3. What is Flask, and why is it popular for building APIs.\n"
      ],
      "metadata": {
        "id": "XPJVUE_QuaQ6"
      }
    },
    {
      "cell_type": "markdown",
      "source": [
        "Flask is a lightweight and flexible web framework for building web applications and APIs in Python. It is often referred to as a micro-framework because it provides the essentials for building web applications but leaves the rest to the developer’s discretion. Flask does not come with built-in tools for tasks like form validation or database abstraction, making it highly customizable and easy to use for smaller or simpler projects. However, it is powerful enough to scale up for larger applications by integrating with various extensions and third-party libraries.\n",
        "\n",
        "Flask follows the WSGI (Web Server Gateway Interface) specification, which is a standard interface between web servers and Python web applications. It is designed to be simple, unopinionated, and highly extensible."
      ],
      "metadata": {
        "id": "FUnHTMRrunVB"
      }
    },
    {
      "cell_type": "markdown",
      "source": [
        "4. What is routing in Flask?"
      ],
      "metadata": {
        "id": "bGIwITGtuojs"
      }
    },
    {
      "cell_type": "markdown",
      "source": [
        "Routing in Flask refers to the process of defining the URL patterns (routes) that the web application will respond to and the corresponding functions (views) that will be executed when those routes are accessed. In Flask, routes are used to map incoming HTTP requests to Python functions, which are called view functions or handlers.\n",
        "\n"
      ],
      "metadata": {
        "id": "bj-K05cxu4xt"
      }
    },
    {
      "cell_type": "markdown",
      "source": [
        "5. How do you create a simple Flask application?\n"
      ],
      "metadata": {
        "id": "-6IT1X2Fu5zk"
      }
    },
    {
      "cell_type": "markdown",
      "source": [
        "Creating a simple Flask application is very straightforward. Below, I'll walk you through the basic steps to get started with a simple Flask app. This will include setting up the Flask environment, creating the app, defining routes, and running the app."
      ],
      "metadata": {
        "id": "XcXICkGqvH6M"
      }
    },
    {
      "cell_type": "markdown",
      "source": [
        "6. What are HTTP methods used in RESTful APIs?\n"
      ],
      "metadata": {
        "id": "T_6bOYyFvIlC"
      }
    },
    {
      "cell_type": "markdown",
      "source": [
        "In RESTful APIs, HTTP methods define the type of operation you want to perform on a resource. Each method corresponds to a standard action (CRUD operations) on the data. The most commonly used HTTP methods in RESTful APIs are:\n",
        "\n",
        "1. GET\n",
        "Purpose: Retrieve data from the server.\n",
        "\n",
        "Action: It is used to fetch data from the server without modifying the resource.\n",
        "\n",
        "Example: Fetching a list of users or a specific user by their ID.\n",
        "\n",
        "Idempotent: Yes (multiple identical requests should produce the same result).\n",
        "\n",
        "Example Request:"
      ],
      "metadata": {
        "id": "LVhC7x2GvWsG"
      }
    },
    {
      "cell_type": "code",
      "source": [
        "GET /users\n",
        "GET /users/123\n"
      ],
      "metadata": {
        "id": "xCsfdiZyvXV-"
      },
      "execution_count": null,
      "outputs": []
    },
    {
      "cell_type": "markdown",
      "source": [
        "7. What is the purpose of the @app.route() decorator in Flask?\n"
      ],
      "metadata": {
        "id": "danHyOeVvasJ"
      }
    },
    {
      "cell_type": "markdown",
      "source": [
        "The @app.route() decorator in Flask is used to define routes for your web application. A route in Flask is essentially a URL pattern that is associated with a specific view function. When a user makes a request to a specific URL, Flask uses the @app.route() decorator to route the request to the corresponding view function, which handles the request and returns a response.\n",
        "\n"
      ],
      "metadata": {
        "id": "UmrcYiVEvosy"
      }
    },
    {
      "cell_type": "markdown",
      "source": [
        "8. What is the difference between GET and POST HTTP methods?\n"
      ],
      "metadata": {
        "id": "fPM9b4-AvpXG"
      }
    },
    {
      "cell_type": "markdown",
      "source": [
        "The GET and POST HTTP methods are two of the most commonly used methods in HTTP communication, especially in web development. While both are used to send data between a client (typically a web browser) and a server, they serve different purposes and have distinct characteristics.\n",
        "\n"
      ],
      "metadata": {
        "id": "ubRRrb9Mv4Zu"
      }
    },
    {
      "cell_type": "markdown",
      "source": [
        "9. How do you handle errors in Flask APIs?\n"
      ],
      "metadata": {
        "id": "RoaBUw92v5EK"
      }
    },
    {
      "cell_type": "markdown",
      "source": [
        "n Flask APIs, error handling is crucial to ensure that the application responds appropriately when something goes wrong, whether it's a client-side issue (e.g., invalid input) or a server-side issue (e.g., database failure). Flask provides several ways to handle errors, including the use of error handling decorators, custom error responses, and built-in exception handling.\n",
        "\n",
        "Common Ways to Handle Errors in Flask:\n",
        "1. Using @app.errorhandler() Decorator\n",
        "Flask allows you to handle specific errors globally across your application using the @app.errorhandler() decorator. This is useful for handling common HTTP errors like 404 (Not Found) or 500 (Internal Server Error), and for providing custom error messages.\n",
        "\n",
        "Example of handling 404 (Not Found) and 500 (Internal Server Error):"
      ],
      "metadata": {
        "id": "wYLxFXs2wT9I"
      }
    },
    {
      "cell_type": "code",
      "source": [
        "from flask import Flask, jsonify\n",
        "\n",
        "app = Flask(__name__)\n",
        "\n",
        "@app.errorhandler(404)\n",
        "def page_not_found(error):\n",
        "    return jsonify({\"message\": \"Page not found\"}), 404\n",
        "\n",
        "@app.errorhandler(500)\n",
        "def internal_server_error(error):\n",
        "    return jsonify({\"message\": \"Internal server error\"}), 500\n",
        "\n",
        "@app.route('/hello')\n",
        "def hello():\n",
        "    return 'Hello, World!'\n",
        "\n",
        "if __name__ == '__main__':\n",
        "    app.run(debug=True)\n"
      ],
      "metadata": {
        "id": "oUgVsd9ZwUuL"
      },
      "execution_count": null,
      "outputs": []
    },
    {
      "cell_type": "markdown",
      "source": [
        "10. How do you connect Flask to a SQL database?\n"
      ],
      "metadata": {
        "id": "XD_6-9AVwYRh"
      }
    },
    {
      "cell_type": "markdown",
      "source": [
        "To connect a Flask application to a SQL database, you typically use an Object-Relational Mapper (ORM) like SQLAlchemy or a simple database connection through a library like SQLite (for lightweight applications) or MySQL and PostgreSQL (for production-grade applications). The recommended approach is to use SQLAlchemy, as it provides a powerful ORM for interacting with the database in a Pythonic way."
      ],
      "metadata": {
        "id": "rYZ0NTe4wovD"
      }
    },
    {
      "cell_type": "markdown",
      "source": [
        "11. What is the role of Flask-SQLAlchemy?\n"
      ],
      "metadata": {
        "id": "2_-jx-j_wpdk"
      }
    },
    {
      "cell_type": "markdown",
      "source": [
        "Flask-SQLAlchemy is an extension for Flask that provides integration with SQLAlchemy, a powerful and flexible Object-Relational Mapping (ORM) library for Python. It simplifies the process of connecting Flask applications to relational databases and performing database operations."
      ],
      "metadata": {
        "id": "9m61XbBEw99l"
      }
    },
    {
      "cell_type": "markdown",
      "source": [
        "12. What are Flask blueprints, and how are they useful?\n"
      ],
      "metadata": {
        "id": "GMtmWehew-xb"
      }
    },
    {
      "cell_type": "markdown",
      "source": [
        "Flask Blueprints are a way to organize and modularize your Flask application into smaller, reusable components. They allow you to split your application into different modules, each responsible for specific functionality or routes, making the codebase more maintainable, scalable, and easier to manage, especially in large applications.\n",
        "\n",
        "Key Concepts of Flask Blueprints:\n",
        "Modular Structure: Blueprints enable you to organize your Flask application into smaller components. Instead of placing all routes in a single app.py file, you can define different parts of your application in different files and then register them with the main Flask app.\n",
        "\n",
        "Reusable Components: Blueprints allow you to create reusable components that can be shared across multiple Flask applications. You can define a blueprint in one place, and then import and register it in any application that needs it.\n",
        "\n",
        "Separation of Concerns: Blueprints allow you to separate concerns in your application. For example, you could have a blueprint for authentication routes, another for user management, and another for product-related functionality. This separation makes it easier to manage large applications and collaborate in teams."
      ],
      "metadata": {
        "id": "v5qF6m-CxMJ0"
      }
    },
    {
      "cell_type": "markdown",
      "source": [
        "13. What is the purpose of Flask's request object?\n"
      ],
      "metadata": {
        "id": "MhXA5lv2xMwr"
      }
    },
    {
      "cell_type": "markdown",
      "source": [
        "The Flask request object is an essential part of the Flask framework, providing access to all the data sent with the HTTP request made by the client (e.g., a browser or an API client). It represents the incoming request from the client, allowing you to interact with the various components of the request, such as form data, query parameters, request headers, and the body of the request.\n",
        "\n",
        "Key Purposes of the request Object:\n",
        "Accessing Form Data: The request object allows you to access data submitted via forms (e.g., <form> submissions in HTML). This data can be accessed using the form attribute, which returns a dictionary-like object containing the form fields.\n",
        "\n",
        "Example:"
      ],
      "metadata": {
        "id": "UIMRxysMxZhO"
      }
    },
    {
      "cell_type": "code",
      "source": [
        "from flask import Flask, request\n",
        "\n",
        "app = Flask(__name__)\n",
        "\n",
        "@app.route('/login', methods=['POST'])\n",
        "def login():\n",
        "    username = request.form['username']\n",
        "    password = request.form['password']\n",
        "    return f\"Username: {username}, Password: {password}\"\n",
        "\n",
        "if __name__ == '__main__':\n",
        "    app.run(debug=True)\n"
      ],
      "metadata": {
        "id": "Nufqc67OxaIu"
      },
      "execution_count": null,
      "outputs": []
    },
    {
      "cell_type": "markdown",
      "source": [
        "14. How do you create a RESTful API endpoint using Flask?"
      ],
      "metadata": {
        "id": "fZIGS4DTxeWs"
      }
    },
    {
      "cell_type": "markdown",
      "source": [
        "Creating a RESTful API endpoint in Flask is straightforward and involves defining routes that correspond to various HTTP methods (GET, POST, PUT, DELETE, etc.) for handling different types of requests.\n",
        "\n",
        "Below are the steps to create a RESTful API endpoint using Flask:\n",
        "\n",
        "Steps to Create a Simple RESTful API Endpoint:\n",
        "Set up your Flask application.\n",
        "\n",
        "Define routes that handle different HTTP methods (GET, POST, PUT, DELETE).\n",
        "\n",
        "Return JSON data as responses.\n",
        "\n",
        "Use Flask's request object to retrieve data from incoming requests.\n",
        "\n",
        "Run the Flask application.\n",
        "\n"
      ],
      "metadata": {
        "id": "USKG9Xt7xsaR"
      }
    },
    {
      "cell_type": "markdown",
      "source": [
        "15. What is the purpose of Flask's jsonify() function?\n"
      ],
      "metadata": {
        "id": "ZS9rqh07xs-z"
      }
    },
    {
      "cell_type": "markdown",
      "source": [
        "The purpose of Flask's jsonify() function is to convert Python data (such as dictionaries, lists, etc.) into JSON format and return it as an HTTP response with the appropriate content type (application/json). It is commonly used when building RESTful APIs to send JSON-formatted responses to the client.\n",
        "\n",
        "Key Features of jsonify():\n",
        "Converts Python objects to JSON: It converts native Python data structures (e.g., dictionaries, lists) into a JSON string, which is the standard format for data exchange in web applications.\n",
        "\n",
        "Sets the correct Content-Type: It automatically sets the Content-Type header of the response to application/json, informing the client that the response body is in JSON format.\n",
        "\n",
        "Handles encoding: It ensures that the data is correctly encoded as JSON (e.g., handling special characters like non-ASCII characters)."
      ],
      "metadata": {
        "id": "Sn7oWxJWx9Yh"
      }
    },
    {
      "cell_type": "markdown",
      "source": [
        "16. Explain Flask’s url_for() function.\n"
      ],
      "metadata": {
        "id": "orr-4fVLyCf-"
      }
    },
    {
      "cell_type": "markdown",
      "source": [
        "Flask's url_for() function is used to dynamically generate a URL for a given endpoint (view function) in a Flask application. It is an essential part of Flask's routing system and provides a way to avoid hardcoding URLs. Instead, you can use the function to generate URLs based on the names of routes (endpoints) and their associated arguments.\n",
        "\n",
        "Key Features of url_for():\n",
        "Dynamic URL Generation: Instead of writing URLs manually, url_for() generates the correct URL based on the view function's name and any parameters it needs.\n",
        "\n",
        "Prevents Hardcoding URLs: By using url_for(), you can avoid hardcoding URLs in templates and code. This makes your application more maintainable and avoids errors caused by URL changes.\n",
        "\n",
        "Handles URL Arguments: url_for() can accept URL arguments (e.g., path variables) and generate the correct URL with those parameters.\n",
        "\n",
        "Supports URL Building for Static Files: It can also be used to generate URLs for static files by specifying 'static' as the endpoint"
      ],
      "metadata": {
        "id": "GSFfeNVzyXRJ"
      }
    },
    {
      "cell_type": "markdown",
      "source": [
        "17. How does Flask handle static files (CSS, JavaScript, etc.)?"
      ],
      "metadata": {
        "id": "tHk2ap0syX7g"
      }
    },
    {
      "cell_type": "markdown",
      "source": [
        "Flask has built-in support for serving static files like CSS, JavaScript, images, and other assets. Static files are files that don't change dynamically and are typically stored in a directory that's accessible by the web server. Flask makes it easy to serve these files to the client (browser) in a structured and efficient way.\n",
        "\n",
        "Default Static Folder in Flask\n",
        "By default, Flask looks for static files in a folder named **static** in your project directory. This folder must be located at the root of your Flask application.\n",
        "\n"
      ],
      "metadata": {
        "id": "6dRWyZomyr-u"
      }
    },
    {
      "cell_type": "markdown",
      "source": [
        "18. What is an API specification, and how does it help in building a Flask API?\n"
      ],
      "metadata": {
        "id": "u9MEHy9Eysqp"
      }
    },
    {
      "cell_type": "markdown",
      "source": [
        "An API specification is a document or a set of definitions that outlines the design and structure of an Application Programming Interface (API). It describes the operations that the API provides, the expected inputs and outputs, how errors are handled, and other relevant details such as authentication, rate limits, and response formats. API specifications serve as a contract between the backend (server) and the frontend (client), or between services in microservice architectures.\n",
        "\n",
        "Common API Specification Formats:\n",
        "OpenAPI Specification (formerly Swagger): This is one of the most widely used API specification formats. OpenAPI describes the entire API, including the available endpoints, the HTTP methods used, input/output parameters, and other metadata.\n",
        "\n",
        "RAML (RESTful API Modeling Language): A YAML-based language used for describing RESTful APIs in a human-readable format.\n",
        "\n",
        "API Blueprint: Another human-readable format used for documenting REST APIs, similar to RAML but with a different syntax.\n",
        "\n",
        "GraphQL Schema: For APIs using GraphQL, the schema defines the types of data that can be queried and the available operations (queries and mutations).\n",
        "\n"
      ],
      "metadata": {
        "id": "z3wvf_ePy5m2"
      }
    },
    {
      "cell_type": "markdown",
      "source": [
        "19. What are HTTP status codes, and why are they important in a Flask API?\n"
      ],
      "metadata": {
        "id": "Csew_Lzfy6Vs"
      }
    },
    {
      "cell_type": "markdown",
      "source": [
        "HTTP Status Codes are three-digit codes sent by a web server to a client (usually a web browser) to indicate the outcome of an HTTP request. These codes are part of the HTTP response and help the client understand how the server processed the request. The status code is a crucial part of the response, as it provides information about whether the request was successful, failed, or if any additional actions are required from the client.\n",
        "\n",
        "HTTP status codes are divided into several classes based on the type of response they represent. They are grouped by the first digit, which gives a high-level indication of the outcome of the request:\n",
        "\n",
        "HTTP Status Code Classes:\n",
        "1xx (Informational): These codes indicate that the request was received and is being processed. They are rarely used in practice.\n",
        "\n",
        "Example: 100 Continue\n",
        "\n",
        "2xx (Success): These codes indicate that the request was successfully received, understood, and accepted by the server.Example: 200 OK, 201 Created, 204 No Content\n",
        "\n",
        "3xx (Redirection): These codes indicate that the client must take additional actions to complete the request (usually redirects).\n",
        "\n",
        "Example: 301 Moved Permanently, 302 Found\n",
        "\n",
        "4xx (Client Errors): These codes indicate that the client has made a bad request, and the server cannot process it due to issues such as missing parameters, unauthorized access, or invalid input.\n",
        "\n",
        "Example: 400 Bad Request, 401 Unauthorized, 404 Not Found, 422 Unprocessable Entity\n",
        "\n",
        "5xx (Server Errors): These codes indicate that the server has encountered an error or is incapable of performing the request. This is usually due to server-side issues.\n",
        "\n"
      ],
      "metadata": {
        "id": "VMDOR6tmzINS"
      }
    },
    {
      "cell_type": "markdown",
      "source": [
        "20. How do you handle POST requests in Flask?\n"
      ],
      "metadata": {
        "id": "IZ_2A8u9zPu-"
      }
    },
    {
      "cell_type": "markdown",
      "source": [
        "Handling POST requests in Flask involves creating a route that listens for HTTP POST requests and processing the incoming data accordingly. POST requests are typically used to submit data to the server, such as when a user fills out a form or when an API client sends data to create a new resource.\n",
        "\n",
        "Steps to Handle POST Requests in Flask:\n",
        "Define the Route: Use the @app.route() decorator to define a route that listens for POST requests.\n",
        "\n",
        "Access the Incoming Data: You can access the data sent in the body of a POST request using request.form (for form data), request.json (for JSON data), or request.data (for raw data).\n",
        "\n",
        "Process the Data: Depending on the data format, you can process the incoming data (e.g., validating fields, saving to a database).\n",
        "\n",
        "Return a Response: After processing the data, return a response, typically in the form of a JSON object or an HTTP status code."
      ],
      "metadata": {
        "id": "-hNJBxstzc5T"
      }
    },
    {
      "cell_type": "markdown",
      "source": [
        "21. How would you secure a Flask API?\n"
      ],
      "metadata": {
        "id": "NVe266eHzdtZ"
      }
    },
    {
      "cell_type": "markdown",
      "source": [
        "Securing a Flask API is crucial to ensure that only authorized users can access certain resources, protect sensitive data, and prevent malicious activities. There are several strategies to secure a Flask API, ranging from authentication and authorization to data encryption and input validation. Here’s a comprehensive guide on how to secure a Flask API:\n",
        "\n",
        "1. Authentication\n",
        "Authentication is the process of verifying the identity of the user or system making the request. Common methods of authentication include:\n",
        "\n",
        "a. Token-Based Authentication (JWT)\n",
        "JWT (JSON Web Token) is a popular method for securing Flask APIs. It involves generating a token after the user logs in, which is then sent in the Authorization header of each subsequent request. The server validates the token to ensure the request is coming from an authenticated user.\n",
        "\n",
        "Install the necessary packages:"
      ],
      "metadata": {
        "id": "NFj6yLfMzutl"
      }
    },
    {
      "cell_type": "code",
      "source": [
        "pip install Flask-JWT-Extended\n"
      ],
      "metadata": {
        "id": "A7lGYCQkzvaZ"
      },
      "execution_count": null,
      "outputs": []
    },
    {
      "cell_type": "markdown",
      "source": [
        "22. What is the significance of the Flask-RESTful extension?\n"
      ],
      "metadata": {
        "id": "hCBmvbNWzyNs"
      }
    },
    {
      "cell_type": "markdown",
      "source": [
        "Flask-RESTful is an extension for Flask that simplifies the process of building REST APIs. It is widely used in developing web services with Flask, especially when you want to create APIs that follow REST (Representational State Transfer) principles. The significance of Flask-RESTful can be summarized in the following key points:\n",
        "\n",
        "1. Simplifies API Development\n",
        "Flask-RESTful provides tools and helpers that make it easier to create REST APIs in Flask. Without it, you would have to manually handle things like request parsing, response formatting, and routing. Flask-RESTful abstracts much of this, making your code cleaner and easier to maintain.\n",
        "\n",
        "2. Resource-Oriented Design\n",
        "It introduces the concept of \"resources,\" which are essentially objects or collections representing entities in your application (e.g., a \"User\" resource, \"Post\" resource). This aligns perfectly with the REST philosophy of working with resources.\n",
        "\n",
        "Resources are created as Python classes that inherit from Resource. Each resource class can define HTTP methods (GET, POST, PUT, DELETE) as methods within the class, making the API more intuitive and organized.\n",
        "\n",
        "3. Built-in Request Parsing\n",
        "Flask-RESTful comes with built-in support for parsing incoming request data (JSON, form data, etc.) using the reqparse module. This allows you to easily handle data sent by clients (like form submissions or JSON payloads).\n",
        "\n",
        "4. Automatic Handling of HTTP Status Codes\n",
        "Flask-RESTful automatically manages HTTP response codes for different methods. For example, a successful GET request will return status code 200, and a successful POST request will return 201 (created), reducing the need to manually manage response codes.\n",
        "\n",
        "5. Error Handling\n",
        "Flask-RESTful allows you to define custom error messages and responses in case something goes wrong. It makes it easier to handle errors and return appropriate HTTP status codes and messages to the client.\n",
        "\n",
        "6. Integrates Well with Flask\n",
        "Since it is a Flask extension, Flask-RESTful integrates seamlessly with Flask, making it easy to build APIs within an existing Flask application. You can define resources and map them to specific endpoints effortlessly.\n",
        "\n",
        "7. Support for Multiple Response Formats\n",
        "Flask-RESTful supports multiple response formats, such as JSON, XML, etc. This flexibility is important in APIs where different clients might need different formats for the data.\n",
        "\n",
        "8. Extensible and Lightweight\n",
        "Flask-RESTful is highly extensible, meaning you can easily add additional functionality (like authentication, authorization, etc.) by subclassing or adding your own components. Additionally, since Flask itself is a lightweight framework, Flask-RESTful inherits this lightweight nature, ensuring that your application remains easy to scale.\n"
      ],
      "metadata": {
        "id": "6ePLHVZEz35I"
      }
    },
    {
      "cell_type": "markdown",
      "source": [
        "23. What is the role of Flask’s session object?\n"
      ],
      "metadata": {
        "id": "8xudGNOX0G7o"
      }
    },
    {
      "cell_type": "markdown",
      "source": [
        "In Flask, the session object plays a crucial role in managing data that is specific to a particular user across multiple requests. It's used to store user-specific data between HTTP requests in a way that the server can remember the user’s information (such as preferences, authentication state, etc.) even though HTTP itself is stateless.\n",
        "\n",
        "Here’s a breakdown of the role and significance of Flask's session object:\n",
        "\n",
        "1. Persistent User-Specific Data Across Requests\n",
        "The session object allows you to store data on a per-user basis, making it possible for the server to remember information across multiple HTTP requests. For instance, once a user logs in, you can store their user ID or authentication token in the session, so they don’t need to log in again on every request."
      ],
      "metadata": {
        "id": "uhp4A6cI0gTQ"
      }
    },
    {
      "cell_type": "code",
      "source": [
        "from flask import Flask, session\n",
        "\n",
        "app = Flask(__name__)\n",
        "app.secret_key = 'your_secret_key'  # Required to sign the session cookies securely\n",
        "\n",
        "@app.route('/login', methods=['POST'])\n",
        "def login():\n",
        "    session['user_id'] = 'some_user_id'  # Store user-specific data in the session\n",
        "    return \"Logged in!\"\n",
        "\n",
        "@app.route('/profile')\n",
        "def profile():\n",
        "    user_id = session.get('user_id', None)  # Retrieve data from the session\n",
        "    if user_id:\n",
        "        return f\"Welcome back, User {user_id}\"\n",
        "    return \"Please log in\"\n"
      ],
      "metadata": {
        "id": "IoZkZFox0hB6"
      },
      "execution_count": null,
      "outputs": []
    },
    {
      "cell_type": "markdown",
      "source": [
        "1. How do you create a basic Flask application?\n"
      ],
      "metadata": {
        "id": "Mzw6w8oS0kEu"
      }
    },
    {
      "cell_type": "code",
      "source": [
        "pip install flask\n"
      ],
      "metadata": {
        "id": "X4Vz1bq90wPA"
      },
      "execution_count": null,
      "outputs": []
    },
    {
      "cell_type": "markdown",
      "source": [
        "2. How do you serve static files like images or CSS in Flask?\n"
      ],
      "metadata": {
        "id": "pS6RetiT0w6w"
      }
    },
    {
      "cell_type": "markdown",
      "source": [
        "/your-flask-app\n",
        "    /static\n",
        "        /css\n",
        "            style.css\n",
        "        /images\n",
        "            logo.png\n",
        "    /templates\n",
        "        index.html\n",
        "    app.py\n"
      ],
      "metadata": {
        "id": "SedHKZwF0-kd"
      }
    },
    {
      "cell_type": "markdown",
      "source": [
        "3. How do you define different routes with different HTTP methods in Flask\n"
      ],
      "metadata": {
        "id": "pcZr4KvH0__L"
      }
    },
    {
      "cell_type": "code",
      "source": [
        "from flask import Flask\n",
        "\n",
        "app = Flask(__name__)\n",
        "\n",
        "@app.route('/get-example', methods=['GET'])\n",
        "def get_example():\n",
        "    return \"This is a GET request\"\n",
        "\n",
        "if __name__ == '__main__':\n",
        "    app.run(debug=True)\n"
      ],
      "metadata": {
        "id": "GjXOAYzA1Oh4"
      },
      "execution_count": null,
      "outputs": []
    },
    {
      "cell_type": "markdown",
      "source": [
        "4. How do you render HTML templates in Flask?"
      ],
      "metadata": {
        "id": "yNfT0-_01PQt"
      }
    },
    {
      "cell_type": "code",
      "source": [
        "/your-flask-app\n",
        "    /templates\n",
        "        index.html\n",
        "    /static\n",
        "        /css\n",
        "            style.css\n",
        "    app.py\n"
      ],
      "metadata": {
        "id": "GlS5Fk_k1jsC"
      },
      "execution_count": null,
      "outputs": []
    },
    {
      "cell_type": "markdown",
      "source": [
        "5. How can you generate URLs for routes in Flask using url_for?\n"
      ],
      "metadata": {
        "id": "mi30uWxk1kXz"
      }
    },
    {
      "cell_type": "code",
      "source": [
        "url_for('route_name', **values)\n"
      ],
      "metadata": {
        "id": "7bAmJeE61wgX"
      },
      "execution_count": null,
      "outputs": []
    },
    {
      "cell_type": "markdown",
      "source": [
        "6. How do you handle forms in Flask?"
      ],
      "metadata": {
        "id": "RJM0-Ig_1xKc"
      }
    },
    {
      "cell_type": "code",
      "source": [
        "<!-- templates/form.html -->\n",
        "<!DOCTYPE html>\n",
        "<html lang=\"en\">\n",
        "<head>\n",
        "    <meta charset=\"UTF-8\">\n",
        "    <title>Flask Form</title>\n",
        "</head>\n",
        "<body>\n",
        "    <h1>Enter your details</h1>\n",
        "    <form method=\"POST\">\n",
        "        <label for=\"name\">Name:</label>\n",
        "        <input type=\"text\" id=\"name\" name=\"name\"><br><br>\n",
        "\n",
        "        <label for=\"email\">Email:</label>\n",
        "        <input type=\"email\n"
      ],
      "metadata": {
        "id": "xYpa9LDa2B7v"
      },
      "execution_count": null,
      "outputs": []
    },
    {
      "cell_type": "markdown",
      "source": [
        "7. How can you validate form data in Flask?\n"
      ],
      "metadata": {
        "id": "rfoQ4TJp2CwG"
      }
    },
    {
      "cell_type": "code",
      "source": [
        "from flask import Flask, render_template, request, redirect, url_for\n",
        "\n",
        "app = Flask(__name__)\n",
        "\n",
        "@app.route('/', methods=['GET', 'POST'])\n",
        "def home():\n",
        "    if request.method == 'POST':\n",
        "        name = request.form['name']\n",
        "        email = request.form['email']\n",
        "\n",
        "        # Basic Validation\n"
      ],
      "metadata": {
        "id": "7iaxhQFx2T0T"
      },
      "execution_count": null,
      "outputs": []
    },
    {
      "cell_type": "markdown",
      "source": [
        "8. How do you manage sessions in Flask?\n"
      ],
      "metadata": {
        "id": "0NRMBNen2Ui2"
      }
    },
    {
      "cell_type": "code",
      "source": [
        "from flask import Flask, session, redirect, url_for, request\n",
        "\n",
        "app = Flask(__name__)\n",
        "\n",
        "# Set the secret key for signing the session cookie\n",
        "app.secret_key = 'your_secret_key'\n",
        "\n",
        "@app.route('/')\n",
        "def index():\n",
        "    return 'Welcome to the Flask Session Example!'\n",
        "\n",
        "if __name__ == '__main__':\n",
        "    app.run(debug=True)\n"
      ],
      "metadata": {
        "id": "6eztQ3zt2lU1"
      },
      "execution_count": null,
      "outputs": []
    },
    {
      "cell_type": "markdown",
      "source": [
        "9. How do you redirect to a different route in Flask?\n"
      ],
      "metadata": {
        "id": "ukza1wBt2mC1"
      }
    },
    {
      "cell_type": "code",
      "source": [
        "from flask import Flask, redirect, url_for\n",
        "\n",
        "app = Flask(__name__)\n",
        "\n",
        "@app.route('/')\n",
        "def home():\n",
        "    return 'Welcome to the Home Page!'\n",
        "\n",
        "@app.route('/login')\n",
        "def login():\n",
        "    return 'Please log in!'\n",
        "\n",
        "@app.route('/redirect_to_login')\n",
        "def redirect_to_login():\n",
        "    # Redirects to the login route\n",
        "    return redirect(url_for('login'))\n",
        "\n",
        "if __name__ == '__main__':\n",
        "    app.run(debug=True)\n"
      ],
      "metadata": {
        "id": "PMMXf6lN2ynl"
      },
      "execution_count": null,
      "outputs": []
    },
    {
      "cell_type": "markdown",
      "source": [
        "10. How do you handle errors in Flask (e.g., 404)?\n"
      ],
      "metadata": {
        "id": "jdy1hzqw2zce"
      }
    },
    {
      "cell_type": "code",
      "source": [
        "from flask import Flask, render_template\n",
        "\n",
        "app = Flask(__name__)\n",
        "\n",
        "@app.route('/')\n",
        "def home():\n",
        "    return \"Welcome to the Home Page!\"\n",
        "\n",
        "# Custom handler for 404 error (page not found)\n",
        "@app.errorhandler(404)\n",
        "def page_not_found(error):\n",
        "    return render_template('404.html'), 404\n",
        "\n",
        "# Custom handler for 500 error (server error)\n",
        "@app.errorhandler(500)\n",
        "def internal_error(error):\n",
        "    return \"Internal Server Error. Please try again later.\", 500\n",
        "\n",
        "if __name__ == '__main__':\n",
        "    app.run(debug=True)\n"
      ],
      "metadata": {
        "id": "ejinaZPj3BBB"
      },
      "execution_count": null,
      "outputs": []
    },
    {
      "cell_type": "markdown",
      "source": [
        "11. How do you structure a Flask app using Blueprints?\n"
      ],
      "metadata": {
        "id": "u_eRiZGm3BwB"
      }
    },
    {
      "cell_type": "code",
      "source": [
        "/your_project\n",
        "    /app\n",
        "        /auth\n",
        "            __init__.py\n",
        "            routes.py\n",
        "            models.py\n",
        "            forms.py\n",
        "        /main\n",
        "            __init__.py\n",
        "            routes.py\n",
        "        __init__.py\n",
        "        config.py\n",
        "    run.py\n"
      ],
      "metadata": {
        "id": "-0YskKRa3QGT"
      },
      "execution_count": null,
      "outputs": []
    },
    {
      "cell_type": "markdown",
      "source": [
        "12.How do you define a custom Jinja filter in Flask?\n"
      ],
      "metadata": {
        "id": "lkWqLKem3Q7B"
      }
    },
    {
      "cell_type": "code",
      "source": [
        "# app/__init__.py\n",
        "from flask import Flask\n",
        "\n",
        "app = Flask(__name__)\n",
        "\n",
        "# Define a custom filter function\n",
        "def reverse_string(value):\n",
        "    if isinstance(value, str):\n",
        "        return value[::-1]\n",
        "    return value\n"
      ],
      "metadata": {
        "id": "xp5pwrtH3jg8"
      },
      "execution_count": null,
      "outputs": []
    },
    {
      "cell_type": "markdown",
      "source": [
        "13. How can you redirect with query parameters in Flask?\n"
      ],
      "metadata": {
        "id": "utREcukn3kLB"
      }
    },
    {
      "cell_type": "code",
      "source": [
        "from flask import Flask, redirect, url_for, request\n",
        "\n",
        "app = Flask(__name__)\n",
        "\n",
        "# Route to display the search results\n",
        "@app.route('/search')\n",
        "def search():\n",
        "    query = request.args.get('query')  # Retrieve the query parameter from the URL\n",
        "    return f\"Search Results for: {query}\"\n",
        "\n",
        "# Route to\n"
      ],
      "metadata": {
        "id": "yFnxfWsu32Pw"
      },
      "execution_count": null,
      "outputs": []
    },
    {
      "cell_type": "markdown",
      "source": [
        "14. How do you return JSON responses in Flask?\n"
      ],
      "metadata": {
        "id": "wCQZeLdg33QR"
      }
    },
    {
      "cell_type": "code",
      "source": [
        "from flask import Flask, jsonify\n",
        "\n",
        "app = Flask(__name__)\n",
        "\n",
        "@app.route('/json_example')\n",
        "def json_example():\n",
        "    data = {\n",
        "        \"name\": \"Alice\",\n",
        "        \"age\": 30,\n",
        "        \"city\": \"New York\"\n",
        "    }\n",
        "    return jsonify(data)\n",
        "\n",
        "if __name__ == '__main__':\n",
        "    app.run(debug=True)\n"
      ],
      "metadata": {
        "id": "TCpCAIAZ4IS7"
      },
      "execution_count": null,
      "outputs": []
    },
    {
      "cell_type": "markdown",
      "source": [
        "15. How do you capture URL parameters in Flask?\n"
      ],
      "metadata": {
        "id": "sswkJV5U4K-C"
      }
    },
    {
      "cell_type": "code",
      "source": [
        "from flask import Flask\n",
        "\n",
        "app = Flask(__name__)\n",
        "\n",
        "# Route with a URL parameter 'username'\n",
        "@app.route('/user/<username>')\n",
        "def show_user_profile(username):\n",
        "    return f'User: {username}'\n",
        "\n",
        "if __name__ == '__main__':\n",
        "    app.run(debug=True)\n"
      ],
      "metadata": {
        "id": "x9b7tapX4czY"
      },
      "execution_count": null,
      "outputs": []
    }
  ]
}